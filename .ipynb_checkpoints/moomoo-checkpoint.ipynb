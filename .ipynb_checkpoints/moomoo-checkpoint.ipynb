{
 "cells": [
  {
   "cell_type": "markdown",
   "id": "0be5bc27",
   "metadata": {},
   "source": [
    "# Moomoo version 1.0"
   ]
  },
  {
   "cell_type": "markdown",
   "id": "e14f7023",
   "metadata": {},
   "source": [
    "## Initialize"
   ]
  },
  {
   "cell_type": "code",
   "execution_count": 4,
   "id": "26d01061",
   "metadata": {},
   "outputs": [],
   "source": [
    "import requests\n",
    "#import pdfplumber\n",
    "import os, fnmatch\n",
    "import re\n",
    "#import pandas as pd\n",
    "from pypdf import PdfReader"
   ]
  },
  {
   "cell_type": "markdown",
   "id": "36f42451",
   "metadata": {},
   "source": [
    "## List of files"
   ]
  },
  {
   "cell_type": "code",
   "execution_count": 9,
   "id": "ea31d3db",
   "metadata": {},
   "outputs": [
    {
     "name": "stdout",
     "output_type": "stream",
     "text": [
      "['1017286201753723-6-20240402-1712189271603.pdf', '1017286201753723-6-20240409-1713446296376.pdf', '1017286201753723-6-20240412-1717486623113.pdf', '1017286201753723-6-20240415-1717486640414.pdf', '1017286201753723-6-20240416-1717486645013.pdf', '1017286201753723-6-20240423-1717486650400.pdf', '1017286201753723-6-20240424-1717486655512.pdf', '1017286201753723-6-20240425-1717486661037.pdf', '1017286201753723-6-20240430-1717486667429.pdf', '1017286201753723-6-20240507-1717486674670.pdf', '1017286201753723-6-20240510-1717486679352.pdf', '1017286201753723-6-20240513-1717486687006.pdf', '1017286201753723-6-20240514-1717486694607.pdf', '1017286201753723-6-20240515-1717486701443.pdf', '1017286201753723-6-20240516-1717486708285.pdf', '1017286201753723-6-20240520-1717486715856.pdf', '1017286201753723-6-20240531-1717486725753.pdf']\n",
      "17\n"
     ]
    }
   ],
   "source": [
    "# find a file to extract\n",
    "path = '../extract_pdf/'\n",
    "arr = fnmatch.filter(os.listdir(path), '*.pdf')\n",
    "\n",
    "# sorted(arr)\n",
    "# print(len(arr))\n",
    "print(arr)\n",
    "print(len(arr))"
   ]
  },
  {
   "cell_type": "markdown",
   "id": "27c3d496",
   "metadata": {},
   "source": [
    "## Read PDF files and convert into text"
   ]
  },
  {
   "cell_type": "code",
   "execution_count": 14,
   "id": "b5cfd8b2",
   "metadata": {},
   "outputs": [],
   "source": [
    "def read_pdf(pdf_path):\n",
    "    reader = PdfReader(pdf_path)\n",
    "\n",
    "    # Print the number of pages in the PDF\n",
    "    print(f\"There are {len(reader.pages)} Pages\")\n",
    "\n",
    "    # Get the first page (index 0) \n",
    "    page = reader.pages[0]\n",
    "    # Use extract_text() to get the text of the page\n",
    "    #print(page.extract_text())\n",
    "    text =''\n",
    "\n",
    "    # Go through every page and get the text\n",
    "    for i in range(len(reader.pages)):\n",
    "      page = reader.pages[i]\n",
    "      text = text + page.extract_text()\n",
    "      #print(text)\n",
    "    \n",
    "    return text"
   ]
  },
  {
   "cell_type": "code",
   "execution_count": 19,
   "id": "0d6a424c",
   "metadata": {},
   "outputs": [
    {
     "name": "stdout",
     "output_type": "stream",
     "text": [
      "There are 4 Pages\n"
     ]
    }
   ],
   "source": [
    "text = read_pdf(path+arr[0])"
   ]
  },
  {
   "cell_type": "markdown",
   "id": "b6fd4b71",
   "metadata": {},
   "source": [
    "## Select extract section"
   ]
  },
  {
   "cell_type": "code",
   "execution_count": 20,
   "id": "9db66b90",
   "metadata": {},
   "outputs": [],
   "source": [
    "def extract_section(text, start_word, end_word):\n",
    "    # Create a regex pattern to capture the text between start_word and end_word\n",
    "    pattern = re.compile(rf\"{re.escape(start_word)}(.*?){re.escape(end_word)}\", re.DOTALL)\n",
    "    match = pattern.search(text)\n",
    "    if match:\n",
    "        return match.group(0)  # Return the entire match (including start and end words)\n",
    "    else:\n",
    "        return None"
   ]
  },
  {
   "cell_type": "code",
   "execution_count": 21,
   "id": "a54a88a7",
   "metadata": {},
   "outputs": [
    {
     "name": "stdout",
     "output_type": "stream",
     "text": [
      "Trades - Securities\n",
      "Trades - Securities\n",
      "Direction\n",
      "Direction\n",
      "Symbol\n",
      "Symbol\n",
      "Exchange\n",
      "Exchange\n",
      "Currency\n",
      "Currency\n",
      "Date/Time\n",
      "Date/Time\n",
      "Price\n",
      "Price\n",
      "Quantity\n",
      "Quantity\n",
      "Amount\n",
      "Amount\n",
      "Sell to Close\n",
      "Sell to Close\n",
      "UEMS\n",
      "5148\n",
      "BMS\n",
      "MYR\n",
      "2024/04/02\n",
      "16:23:24\n",
      "1.1200\n",
      "800\n",
      "896.00\n",
      "MYR Total\n",
      "Subtotal: \n",
      "4.27\n",
      "4.27\n",
      " \n",
      "Number of Transactions: \n",
      "1\n",
      "1\n",
      " \n",
      "Transaction Amount: \n",
      "896.00\n",
      "896.00\n",
      " \n",
      "Net Transaction Amount: \n",
      "891.73\n",
      "891.73\n",
      " \n",
      "Commission: \n",
      "0.00\n",
      "0.00\n",
      " \n",
      "Platform Fees: \n",
      "3.00\n",
      "3.00\n",
      " \n",
      "Clearing Fee: \n",
      "0.27\n",
      "0.27\n",
      "Stamp Duty: \n",
      "1.00\n",
      "1.00\n",
      " \n",
      "Settlement Date: \n",
      "2024/04/04\n",
      "2024/04/04\n",
      " \n",
      "Reference No:\n",
      "v3_20240328_1093797161_8WPzaxQwRhE\n",
      "qdhSvA/4UrwBrl7eB0fg5\n",
      "Buy to Open\n",
      "Buy to Open\n",
      "SCGBHD\n",
      "0225\n",
      "BMS\n",
      "MYR\n",
      "2024/04/02\n",
      "12:19:56\n",
      "0.5450\n",
      "1600\n",
      "872.00\n",
      "MYR Total\n",
      "Subtotal: \n",
      "4.27\n",
      "4.27\n",
      " \n",
      "Number of Transactions: \n",
      "1\n",
      "1\n",
      " \n",
      "Transaction Amount: \n",
      "872.00\n",
      "872.00\n",
      " \n",
      "Net Transaction Amount: \n",
      "-876.27\n",
      "-876.27\n",
      " \n",
      "Commission: \n",
      "0.00\n",
      "0.00\n",
      " \n",
      "Platform Fees: \n",
      "3.00\n",
      "3.00\n",
      " \n",
      "Clearing Fee: \n",
      "0.27\n",
      "0.27\n",
      "Stamp Duty: \n",
      "1.00\n",
      "1.00\n",
      " \n",
      "Settlement Date: \n",
      "2024/04/04\n",
      "2024/04/04\n",
      " \n",
      "Reference No:\n",
      "v3_20240401_1093797161_j/KjNgXpD3YA\n",
      "AAGOmif4ckWpfwg2vOmi\n",
      "MYR Total\n",
      "MYR Total\n",
      "MYR\n",
      "Total of Transaction Fee:\n",
      "4.27\n",
      "4.27\n",
      " \n",
      "Number of Transactions: \n",
      "1\n",
      "1\n",
      " \n",
      "Number of Orders: \n",
      "1\n",
      "1\n",
      " \n",
      "Transactions Amount: \n",
      "872.00\n",
      "872.00\n",
      " \n",
      "Net Transactions Amount: \n",
      "-876.27\n",
      "-876.27\n",
      " \n",
      "Commission: \n",
      "0.00\n",
      "0.00\n",
      "Platform Fees: \n",
      "3.00\n",
      "3.00\n",
      " \n",
      "Clearing Fee: \n",
      "0.27\n",
      "0.27\n",
      " \n",
      "Stamp Duty: \n",
      "1.00\n",
      "1.00\n",
      "MYR\n",
      "Total of Transaction Fee:\n",
      "4.27\n",
      "4.27\n",
      " \n",
      "Number of Transactions: \n",
      "1\n",
      "1\n",
      " \n",
      "Number of Orders: \n",
      "1\n",
      "1\n",
      " \n",
      "Transactions Amount: \n",
      "896.00\n",
      "896.00\n",
      " \n",
      "Net Transactions Amount: \n",
      "891.73\n",
      "891.73\n",
      " \n",
      "Commission: \n",
      "0.00\n",
      "0.00\n",
      "Platform Fees: \n",
      "3.00\n",
      "3.00\n",
      " \n",
      "Clearing Fee: \n",
      "0.27\n",
      "0.27\n",
      " \n",
      "Stamp Duty: \n",
      "1.00\n",
      "1.00\n",
      "Changes in Cash\n"
     ]
    }
   ],
   "source": [
    "# Extract text from \"Direction\" until \"Settlement Date\"\n",
    "start_word = \"Trades - Securities\"\n",
    "end_word = \"Changes in Cash\"\n",
    "extracted_text = extract_section(text, start_word, end_word)\n",
    "\n",
    "print(extracted_text)"
   ]
  },
  {
   "cell_type": "markdown",
   "id": "d455c324",
   "metadata": {},
   "source": [
    "## Regex pattern match to extract the required data"
   ]
  },
  {
   "cell_type": "code",
   "execution_count": 54,
   "id": "325aecf6",
   "metadata": {},
   "outputs": [],
   "source": [
    "def match_pattern(text,option=True):\n",
    "\n",
    "    if option:\n",
    "        # Regex pattern to match the required fields\n",
    "        pattern = re.compile(\n",
    "            r'(Buy to Open|Sell to Open)\\s+(\\w+)\\s+(\\d{4})\\s+[A-Z]+\\s+[A-Z]+\\s+(\\d{4})\\/(\\d{2})\\/(\\d{2})\\s+\\d{2}:\\d{2}:\\d{2}\\s+(\\d+\\.\\d{4})\\s+(\\d+)'\n",
    "        )\n",
    "    else:\n",
    "        # Regex pattern to match the required fields\n",
    "        pattern = re.compile(\n",
    "            r'Net Transaction Amount:\\s*(-?\\d{1,3}(?:,\\d{3})*\\.\\d{2})\\s+-?\\d{1,3}(?:,\\d{3})*\\.\\d{2}\\s+'\n",
    "        )\n",
    "\n",
    "    # Search for the pattern in the text\n",
    "    match = pattern.findall(text)\n",
    "\n",
    "    # If a match is found, extract the groups\n",
    "    if match:\n",
    "        #extracted_data = match.groups()\n",
    "        #print(extracted_data)\n",
    "        return match\n",
    "        \n",
    "    else:\n",
    "        return \"No match found.\"\n",
    "        \n",
    "        \n",
    "    \n",
    "        \n",
    "\n"
   ]
  },
  {
   "cell_type": "code",
   "execution_count": 55,
   "id": "c16da33b",
   "metadata": {},
   "outputs": [
    {
     "name": "stdout",
     "output_type": "stream",
     "text": [
      "[('Buy to Open', 'SCGBHD', '0225', '2024', '04', '02', '0.5450', '1600')]\n"
     ]
    }
   ],
   "source": [
    "print(match_pattern(text, option=True))\n"
   ]
  }
 ],
 "metadata": {
  "kernelspec": {
   "display_name": "Python 3",
   "language": "python",
   "name": "python3"
  },
  "language_info": {
   "codemirror_mode": {
    "name": "ipython",
    "version": 3
   },
   "file_extension": ".py",
   "mimetype": "text/x-python",
   "name": "python",
   "nbconvert_exporter": "python",
   "pygments_lexer": "ipython3",
   "version": "3.8.8"
  }
 },
 "nbformat": 4,
 "nbformat_minor": 5
}
