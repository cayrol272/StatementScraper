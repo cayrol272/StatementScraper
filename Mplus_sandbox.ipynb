{
 "cells": [
  {
   "cell_type": "markdown",
   "id": "93452f77",
   "metadata": {},
   "source": [
    "# Mplus testing ground"
   ]
  },
  {
   "cell_type": "code",
   "execution_count": 1,
   "id": "cb9b5d04",
   "metadata": {},
   "outputs": [],
   "source": [
    "from mextract import mextract"
   ]
  },
  {
   "cell_type": "code",
   "execution_count": 2,
   "id": "86b6e905",
   "metadata": {},
   "outputs": [],
   "source": [
    "pdf = mextract()"
   ]
  },
  {
   "cell_type": "code",
   "execution_count": 3,
   "id": "6c188e23",
   "metadata": {},
   "outputs": [],
   "source": [
    "text = pdf.new_extract_pdf()"
   ]
  },
  {
   "cell_type": "code",
   "execution_count": 4,
   "id": "a92e0328",
   "metadata": {},
   "outputs": [
    {
     "data": {
      "text/html": [
       "<div>\n",
       "<style scoped>\n",
       "    .dataframe tbody tr th:only-of-type {\n",
       "        vertical-align: middle;\n",
       "    }\n",
       "\n",
       "    .dataframe tbody tr th {\n",
       "        vertical-align: top;\n",
       "    }\n",
       "\n",
       "    .dataframe thead th {\n",
       "        text-align: right;\n",
       "    }\n",
       "</style>\n",
       "<table border=\"1\" class=\"dataframe\">\n",
       "  <thead>\n",
       "    <tr style=\"text-align: right;\">\n",
       "      <th></th>\n",
       "      <th>date</th>\n",
       "      <th>dd</th>\n",
       "      <th>mm</th>\n",
       "      <th>yyyy</th>\n",
       "      <th>contract</th>\n",
       "      <th>stock_no</th>\n",
       "      <th>stock_name</th>\n",
       "      <th>price</th>\n",
       "      <th>qty</th>\n",
       "      <th>proceed</th>\n",
       "      <th>brk_amt</th>\n",
       "      <th>stamp</th>\n",
       "      <th>clr_fee</th>\n",
       "      <th>total_amt</th>\n",
       "      <th>Buy</th>\n",
       "    </tr>\n",
       "  </thead>\n",
       "  <tbody>\n",
       "    <tr>\n",
       "      <th>0</th>\n",
       "      <td>2024-10-10</td>\n",
       "      <td>10</td>\n",
       "      <td>10</td>\n",
       "      <td>2024</td>\n",
       "      <td>TPA0068986170-000</td>\n",
       "      <td>5309</td>\n",
       "      <td>ITMAX</td>\n",
       "      <td>3.750000</td>\n",
       "      <td>200</td>\n",
       "      <td>750.00</td>\n",
       "      <td>8.00</td>\n",
       "      <td>1.00</td>\n",
       "      <td>0.23</td>\n",
       "      <td>759.23</td>\n",
       "      <td>Buy</td>\n",
       "    </tr>\n",
       "    <tr>\n",
       "      <th>1</th>\n",
       "      <td>2024-09-30</td>\n",
       "      <td>30</td>\n",
       "      <td>09</td>\n",
       "      <td>2024</td>\n",
       "      <td>TPA0068803684-000</td>\n",
       "      <td>5225</td>\n",
       "      <td>IHH</td>\n",
       "      <td>7.240000</td>\n",
       "      <td>100</td>\n",
       "      <td>724.00</td>\n",
       "      <td>8.00</td>\n",
       "      <td>1.00</td>\n",
       "      <td>0.22</td>\n",
       "      <td>733.22</td>\n",
       "      <td>Buy</td>\n",
       "    </tr>\n",
       "  </tbody>\n",
       "</table>\n",
       "</div>"
      ],
      "text/plain": [
       "        date  dd  mm  yyyy           contract stock_no stock_name     price  \\\n",
       "0 2024-10-10  10  10  2024  TPA0068986170-000     5309      ITMAX  3.750000   \n",
       "1 2024-09-30  30  09  2024  TPA0068803684-000     5225        IHH  7.240000   \n",
       "\n",
       "   qty proceed brk_amt stamp clr_fee total_amt  Buy  \n",
       "0  200  750.00    8.00  1.00    0.23    759.23  Buy  \n",
       "1  100  724.00    8.00  1.00    0.22    733.22  Buy  "
      ]
     },
     "execution_count": 4,
     "metadata": {},
     "output_type": "execute_result"
    }
   ],
   "source": [
    "text"
   ]
  },
  {
   "cell_type": "code",
   "execution_count": 5,
   "id": "be474470",
   "metadata": {},
   "outputs": [
    {
     "data": {
      "text/html": [
       "<div>\n",
       "<style scoped>\n",
       "    .dataframe tbody tr th:only-of-type {\n",
       "        vertical-align: middle;\n",
       "    }\n",
       "\n",
       "    .dataframe tbody tr th {\n",
       "        vertical-align: top;\n",
       "    }\n",
       "\n",
       "    .dataframe thead th {\n",
       "        text-align: right;\n",
       "    }\n",
       "</style>\n",
       "<table border=\"1\" class=\"dataframe\">\n",
       "  <thead>\n",
       "    <tr style=\"text-align: right;\">\n",
       "      <th></th>\n",
       "      <th>date</th>\n",
       "      <th>stock_name</th>\n",
       "      <th>price</th>\n",
       "      <th>qty</th>\n",
       "      <th>total_amt</th>\n",
       "      <th>Buy</th>\n",
       "    </tr>\n",
       "  </thead>\n",
       "  <tbody>\n",
       "    <tr>\n",
       "      <th>1</th>\n",
       "      <td>2024-09-30</td>\n",
       "      <td>IHH</td>\n",
       "      <td>7.240000</td>\n",
       "      <td>100</td>\n",
       "      <td>733.22</td>\n",
       "      <td>Buy</td>\n",
       "    </tr>\n",
       "    <tr>\n",
       "      <th>0</th>\n",
       "      <td>2024-10-10</td>\n",
       "      <td>ITMAX</td>\n",
       "      <td>3.750000</td>\n",
       "      <td>200</td>\n",
       "      <td>759.23</td>\n",
       "      <td>Buy</td>\n",
       "    </tr>\n",
       "  </tbody>\n",
       "</table>\n",
       "</div>"
      ],
      "text/plain": [
       "        date stock_name     price  qty total_amt  Buy\n",
       "1 2024-09-30        IHH  7.240000  100    733.22  Buy\n",
       "0 2024-10-10      ITMAX  3.750000  200    759.23  Buy"
      ]
     },
     "execution_count": 5,
     "metadata": {},
     "output_type": "execute_result"
    }
   ],
   "source": [
    "data = pdf.key_extract()\n",
    "data"
   ]
  },
  {
   "cell_type": "code",
   "execution_count": 6,
   "id": "e3b9fd96",
   "metadata": {},
   "outputs": [
    {
     "name": "stdout",
     "output_type": "stream",
     "text": [
      "Total file extract:  2\n",
      "Succesfully data saved.\n"
     ]
    }
   ],
   "source": [
    "pdf.save_csv()"
   ]
  },
  {
   "cell_type": "code",
   "execution_count": 8,
   "id": "ccbfb6c3",
   "metadata": {},
   "outputs": [
    {
     "data": {
      "text/plain": [
       "pandas.core.frame.DataFrame"
      ]
     },
     "execution_count": 8,
     "metadata": {},
     "output_type": "execute_result"
    }
   ],
   "source": [
    "type(data)"
   ]
  },
  {
   "cell_type": "code",
   "execution_count": 7,
   "id": "200e05b0",
   "metadata": {},
   "outputs": [],
   "source": []
  }
 ],
 "metadata": {
  "kernelspec": {
   "display_name": "Python 3",
   "language": "python",
   "name": "python3"
  },
  "language_info": {
   "codemirror_mode": {
    "name": "ipython",
    "version": 3
   },
   "file_extension": ".py",
   "mimetype": "text/x-python",
   "name": "python",
   "nbconvert_exporter": "python",
   "pygments_lexer": "ipython3",
   "version": "3.8.8"
  }
 },
 "nbformat": 4,
 "nbformat_minor": 5
}
